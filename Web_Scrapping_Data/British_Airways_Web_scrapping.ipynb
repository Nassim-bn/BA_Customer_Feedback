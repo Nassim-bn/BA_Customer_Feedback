{
 "cells": [
  {
   "cell_type": "markdown",
   "metadata": {},
   "source": [
    "\n",
    "## Task One : Web scraping to gain company insights\n",
    "\n",
    "---\n",
    "\n",
    "## Web scraping and analysis\n",
    "\n",
    "We will use a package called `BeautifulSoup` to collect the data from the web. Once we collect the data and save it into a local `.csv` file we can start with your analysis.\n",
    "\n",
    "### Scraping data from Skytrax\n",
    "\n",
    "If you visit [https://www.airlinequality.com] you can see that there is a lot of data there. For this task, we are only interested in reviews related to British Airways and the Airline itself.\n",
    "\n",
    "If you navigate to this link: [https://www.airlinequality.com/airline-reviews/british-airways] you will see this data. Now, we can use `Python` and `BeautifulSoup` to collect all the links to the reviews and then to collect the text data on each of the individual review links."
   ]
  },
  {
   "cell_type": "code",
   "execution_count": 16,
   "metadata": {},
   "outputs": [],
   "source": [
    "import requests\n",
    "from bs4 import BeautifulSoup\n",
    "import pandas as pd"
   ]
  },
  {
   "cell_type": "code",
   "execution_count": 14,
   "metadata": {},
   "outputs": [
    {
     "name": "stdout",
     "output_type": "stream",
     "text": [
      "Scraping page 1\n",
      "   ---> 100 total reviews\n",
      "Scraping page 2\n",
      "   ---> 200 total reviews\n",
      "Scraping page 3\n",
      "   ---> 300 total reviews\n",
      "Scraping page 4\n",
      "   ---> 400 total reviews\n",
      "Scraping page 5\n",
      "   ---> 500 total reviews\n",
      "Scraping page 6\n",
      "   ---> 600 total reviews\n",
      "Scraping page 7\n",
      "   ---> 700 total reviews\n",
      "Scraping page 8\n",
      "   ---> 800 total reviews\n",
      "Scraping page 9\n",
      "   ---> 900 total reviews\n",
      "Scraping page 10\n",
      "   ---> 1000 total reviews\n"
     ]
    }
   ],
   "source": [
    "base_url = \"https://www.airlinequality.com/airline-reviews/british-airways\"\n",
    "pages = 10\n",
    "page_size = 100\n",
    "\n",
    "reviews = []\n",
    "\n",
    "# for i in range(1, pages + 1):\n",
    "for i in range(1, pages + 1):\n",
    "\n",
    "    print(f\"Scraping page {i}\")\n",
    "\n",
    "    # Create URL to collect links from paginated data\n",
    "    url = f\"{base_url}/page/{i}/?sortby=post_date%3ADesc&pagesize={page_size}\"\n",
    "\n",
    "    # Collect HTML data from this page\n",
    "    response = requests.get(url)\n",
    "\n",
    "    # Parse content\n",
    "    content = response.content\n",
    "    parsed_content = BeautifulSoup(content, 'html.parser')\n",
    "    for para in parsed_content.find_all(\"div\", {\"class\": \"text_content\"}):\n",
    "        reviews.append(para.get_text())\n",
    "    \n",
    "    print(f\"   ---> {len(reviews)} total reviews\")"
   ]
  },
  {
   "cell_type": "code",
   "execution_count": 17,
   "metadata": {},
   "outputs": [
    {
     "data": {
      "text/html": [
       "<div>\n",
       "<style scoped>\n",
       "    .dataframe tbody tr th:only-of-type {\n",
       "        vertical-align: middle;\n",
       "    }\n",
       "\n",
       "    .dataframe tbody tr th {\n",
       "        vertical-align: top;\n",
       "    }\n",
       "\n",
       "    .dataframe thead th {\n",
       "        text-align: right;\n",
       "    }\n",
       "</style>\n",
       "<table border=\"1\" class=\"dataframe\">\n",
       "  <thead>\n",
       "    <tr style=\"text-align: right;\">\n",
       "      <th></th>\n",
       "      <th>reviews</th>\n",
       "    </tr>\n",
       "  </thead>\n",
       "  <tbody>\n",
       "    <tr>\n",
       "      <th>0</th>\n",
       "      <td>Not Verified |  LHR-LAX. I prefer the Boeing 7...</td>\n",
       "    </tr>\n",
       "    <tr>\n",
       "      <th>1</th>\n",
       "      <td>✅ Trip Verified |  Flew back to UK from Miami ...</td>\n",
       "    </tr>\n",
       "    <tr>\n",
       "      <th>2</th>\n",
       "      <td>✅ Trip Verified |  I flew with hand baggage bu...</td>\n",
       "    </tr>\n",
       "    <tr>\n",
       "      <th>3</th>\n",
       "      <td>Not Verified | London to Cairo. First, on this...</td>\n",
       "    </tr>\n",
       "    <tr>\n",
       "      <th>4</th>\n",
       "      <td>✅ Trip Verified |  This review is specifically...</td>\n",
       "    </tr>\n",
       "  </tbody>\n",
       "</table>\n",
       "</div>"
      ],
      "text/plain": [
       "                                             reviews\n",
       "0  Not Verified |  LHR-LAX. I prefer the Boeing 7...\n",
       "1  ✅ Trip Verified |  Flew back to UK from Miami ...\n",
       "2  ✅ Trip Verified |  I flew with hand baggage bu...\n",
       "3  Not Verified | London to Cairo. First, on this...\n",
       "4  ✅ Trip Verified |  This review is specifically..."
      ]
     },
     "execution_count": 17,
     "metadata": {},
     "output_type": "execute_result"
    }
   ],
   "source": [
    "df = pd.DataFrame()\n",
    "df[\"reviews\"] = reviews\n",
    "df.head()"
   ]
  },
  {
   "cell_type": "code",
   "execution_count": 18,
   "metadata": {},
   "outputs": [],
   "source": [
    "df.to_csv(\"data/BA_reviews.csv\")"
   ]
  },
  {
   "cell_type": "markdown",
   "metadata": {},
   "source": [
    "### 1. Data cleaning\n",
    "\n",
    "- Remove unnecessary characters (special symbols, URLs, etc.).\n",
    "- Convert text to lowercase for uniformity.\n",
    "- Remove stopwords (common words like \"the\", \"is\", \"and\").\n",
    "- Tokenization (split sentences into words).\n",
    "- Lemmatization (convert words to their base form)."
   ]
  },
  {
   "cell_type": "code",
   "execution_count": 55,
   "metadata": {},
   "outputs": [
    {
     "data": {
      "text/html": [
       "<div>\n",
       "<style scoped>\n",
       "    .dataframe tbody tr th:only-of-type {\n",
       "        vertical-align: middle;\n",
       "    }\n",
       "\n",
       "    .dataframe tbody tr th {\n",
       "        vertical-align: top;\n",
       "    }\n",
       "\n",
       "    .dataframe thead th {\n",
       "        text-align: right;\n",
       "    }\n",
       "</style>\n",
       "<table border=\"1\" class=\"dataframe\">\n",
       "  <thead>\n",
       "    <tr style=\"text-align: right;\">\n",
       "      <th></th>\n",
       "      <th>reviews</th>\n",
       "    </tr>\n",
       "  </thead>\n",
       "  <tbody>\n",
       "    <tr>\n",
       "      <th>0</th>\n",
       "      <td>✅ Trip Verified |   London Heathrow to Male In...</td>\n",
       "    </tr>\n",
       "    <tr>\n",
       "      <th>1</th>\n",
       "      <td>Not Verified |  Very good flight following an ...</td>\n",
       "    </tr>\n",
       "    <tr>\n",
       "      <th>2</th>\n",
       "      <td>Not Verified |  An hour's delay due to late ar...</td>\n",
       "    </tr>\n",
       "    <tr>\n",
       "      <th>3</th>\n",
       "      <td>✅ Trip Verified |   I booked through BA becaus...</td>\n",
       "    </tr>\n",
       "    <tr>\n",
       "      <th>4</th>\n",
       "      <td>✅ Trip Verified |   British airways lost bags ...</td>\n",
       "    </tr>\n",
       "  </tbody>\n",
       "</table>\n",
       "</div>"
      ],
      "text/plain": [
       "                                             reviews\n",
       "0  ✅ Trip Verified |   London Heathrow to Male In...\n",
       "1  Not Verified |  Very good flight following an ...\n",
       "2  Not Verified |  An hour's delay due to late ar...\n",
       "3  ✅ Trip Verified |   I booked through BA becaus...\n",
       "4  ✅ Trip Verified |   British airways lost bags ..."
      ]
     },
     "execution_count": 55,
     "metadata": {},
     "output_type": "execute_result"
    }
   ],
   "source": [
    "# dataset that the CSV file has a built-in index, which pandas did not pick up on automatically. \n",
    "# To make pandas use that column for the index (instead of creating a new one from scratch), we can specify an index_col.\n",
    "\n",
    "df = pd.read_csv(\"BA_reviews.csv\", index_col=0)\n",
    "df.head()"
   ]
  },
  {
   "cell_type": "code",
   "execution_count": 57,
   "metadata": {},
   "outputs": [
    {
     "data": {
      "text/html": [
       "<div>\n",
       "<style scoped>\n",
       "    .dataframe tbody tr th:only-of-type {\n",
       "        vertical-align: middle;\n",
       "    }\n",
       "\n",
       "    .dataframe tbody tr th {\n",
       "        vertical-align: top;\n",
       "    }\n",
       "\n",
       "    .dataframe thead th {\n",
       "        text-align: right;\n",
       "    }\n",
       "</style>\n",
       "<table border=\"1\" class=\"dataframe\">\n",
       "  <thead>\n",
       "    <tr style=\"text-align: right;\">\n",
       "      <th></th>\n",
       "      <th>reviews</th>\n",
       "    </tr>\n",
       "  </thead>\n",
       "  <tbody>\n",
       "    <tr>\n",
       "      <th>0</th>\n",
       "      <td>|   London Heathrow to Male In new business cl...</td>\n",
       "    </tr>\n",
       "    <tr>\n",
       "      <th>1</th>\n",
       "      <td>Very good flight following an equally good fli...</td>\n",
       "    </tr>\n",
       "    <tr>\n",
       "      <th>2</th>\n",
       "      <td>An hour's delay due to late arrival of the inc...</td>\n",
       "    </tr>\n",
       "    <tr>\n",
       "      <th>3</th>\n",
       "      <td>|   I booked through BA because Loganair don’t...</td>\n",
       "    </tr>\n",
       "    <tr>\n",
       "      <th>4</th>\n",
       "      <td>|   British airways lost bags in LHR then foun...</td>\n",
       "    </tr>\n",
       "  </tbody>\n",
       "</table>\n",
       "</div>"
      ],
      "text/plain": [
       "                                             reviews\n",
       "0  |   London Heathrow to Male In new business cl...\n",
       "1  Very good flight following an equally good fli...\n",
       "2  An hour's delay due to late arrival of the inc...\n",
       "3  |   I booked through BA because Loganair don’t...\n",
       "4  |   British airways lost bags in LHR then foun..."
      ]
     },
     "execution_count": 57,
     "metadata": {},
     "output_type": "execute_result"
    }
   ],
   "source": [
    "# clean this data to remove any unnecessary text from each of the rows using regex. \n",
    "# For example, \"✅ Trip Verified\" can be removed from each row if it exists, as it's not relevant to what we want to investigate.\n",
    "\n",
    "df['reviews'] = df['reviews'].str.replace(r'^(✅ Trip Verified \\||Not Verified \\|)\\s*', '', regex=True)\n",
    "df.head()"
   ]
  },
  {
   "cell_type": "code",
   "execution_count": 60,
   "metadata": {},
   "outputs": [
    {
     "data": {
      "text/html": [
       "<div>\n",
       "<style scoped>\n",
       "    .dataframe tbody tr th:only-of-type {\n",
       "        vertical-align: middle;\n",
       "    }\n",
       "\n",
       "    .dataframe tbody tr th {\n",
       "        vertical-align: top;\n",
       "    }\n",
       "\n",
       "    .dataframe thead th {\n",
       "        text-align: right;\n",
       "    }\n",
       "</style>\n",
       "<table border=\"1\" class=\"dataframe\">\n",
       "  <thead>\n",
       "    <tr style=\"text-align: right;\">\n",
       "      <th></th>\n",
       "      <th>reviews</th>\n",
       "      <th>clean_reviews</th>\n",
       "    </tr>\n",
       "  </thead>\n",
       "  <tbody>\n",
       "    <tr>\n",
       "      <th>0</th>\n",
       "      <td>|   London Heathrow to Male In new business cl...</td>\n",
       "      <td>london heathrow male new business class ba c...</td>\n",
       "    </tr>\n",
       "    <tr>\n",
       "      <th>1</th>\n",
       "      <td>Very good flight following an equally good fli...</td>\n",
       "      <td>good flight following equally good flight rome...</td>\n",
       "    </tr>\n",
       "    <tr>\n",
       "      <th>2</th>\n",
       "      <td>An hour's delay due to late arrival of the inc...</td>\n",
       "      <td>hour s delay late arrival incoming aircraft ca...</td>\n",
       "    </tr>\n",
       "    <tr>\n",
       "      <th>3</th>\n",
       "      <td>|   I booked through BA because Loganair don’t...</td>\n",
       "      <td>booked ba loganair don t representatives man...</td>\n",
       "    </tr>\n",
       "    <tr>\n",
       "      <th>4</th>\n",
       "      <td>|   British airways lost bags in LHR then foun...</td>\n",
       "      <td>british airways lost bags lhr found sent col...</td>\n",
       "    </tr>\n",
       "  </tbody>\n",
       "</table>\n",
       "</div>"
      ],
      "text/plain": [
       "                                             reviews  \\\n",
       "0  |   London Heathrow to Male In new business cl...   \n",
       "1  Very good flight following an equally good fli...   \n",
       "2  An hour's delay due to late arrival of the inc...   \n",
       "3  |   I booked through BA because Loganair don’t...   \n",
       "4  |   British airways lost bags in LHR then foun...   \n",
       "\n",
       "                                       clean_reviews  \n",
       "0    london heathrow male new business class ba c...  \n",
       "1  good flight following equally good flight rome...  \n",
       "2  hour s delay late arrival incoming aircraft ca...  \n",
       "3    booked ba loganair don t representatives man...  \n",
       "4    british airways lost bags lhr found sent col...  "
      ]
     },
     "execution_count": 60,
     "metadata": {},
     "output_type": "execute_result"
    }
   ],
   "source": [
    "import re\n",
    "import spacy\n",
    "from spacy.lang.en.stop_words import STOP_WORDS\n",
    "\n",
    "# Load English model\n",
    "nlp = spacy.load(\"en_core_web_sm\")\n",
    "\n",
    "def clean_text(text):\n",
    "    if not isinstance(text, str):\n",
    "        return \"\"  # Handle non-string values\n",
    "    \n",
    "    text = text.lower()  # Convert to lowercase\n",
    "    text = re.sub(r'\\W+', ' ', text)  # Remove special characters\n",
    "    text = re.sub(r'\\d+', '', text)  # Remove numbers\n",
    "\n",
    "    # Tokenize and remove stopwords\n",
    "    doc = nlp(text)\n",
    "    tokens = [token.text for token in doc if token.text not in STOP_WORDS]\n",
    "    \n",
    "    return ' '.join(tokens)\n",
    "\n",
    "df[\"clean_reviews\"] = df[\"reviews\"].apply(clean_text)\n",
    "\n",
    "\n",
    "df.head()"
   ]
  },
  {
   "cell_type": "code",
   "execution_count": 62,
   "metadata": {},
   "outputs": [
    {
     "data": {
      "text/html": [
       "<div>\n",
       "<style scoped>\n",
       "    .dataframe tbody tr th:only-of-type {\n",
       "        vertical-align: middle;\n",
       "    }\n",
       "\n",
       "    .dataframe tbody tr th {\n",
       "        vertical-align: top;\n",
       "    }\n",
       "\n",
       "    .dataframe thead th {\n",
       "        text-align: right;\n",
       "    }\n",
       "</style>\n",
       "<table border=\"1\" class=\"dataframe\">\n",
       "  <thead>\n",
       "    <tr style=\"text-align: right;\">\n",
       "      <th></th>\n",
       "      <th>reviews</th>\n",
       "      <th>clean_reviews</th>\n",
       "      <th>lemmatized_reviews</th>\n",
       "    </tr>\n",
       "  </thead>\n",
       "  <tbody>\n",
       "    <tr>\n",
       "      <th>0</th>\n",
       "      <td>|   London Heathrow to Male In new business cl...</td>\n",
       "      <td>london heathrow male new business class ba c...</td>\n",
       "      <td>london heathrow male new business class ba con...</td>\n",
       "    </tr>\n",
       "    <tr>\n",
       "      <th>1</th>\n",
       "      <td>Very good flight following an equally good fli...</td>\n",
       "      <td>good flight following equally good flight rome...</td>\n",
       "      <td>good flight follow equally good flight rome go...</td>\n",
       "    </tr>\n",
       "    <tr>\n",
       "      <th>2</th>\n",
       "      <td>An hour's delay due to late arrival of the inc...</td>\n",
       "      <td>hour s delay late arrival incoming aircraft ca...</td>\n",
       "      <td>hour s delay late arrival incoming aircraft ca...</td>\n",
       "    </tr>\n",
       "    <tr>\n",
       "      <th>3</th>\n",
       "      <td>|   I booked through BA because Loganair don’t...</td>\n",
       "      <td>booked ba loganair don t representatives man...</td>\n",
       "      <td>book ba loganair don t representatives manches...</td>\n",
       "    </tr>\n",
       "    <tr>\n",
       "      <th>4</th>\n",
       "      <td>|   British airways lost bags in LHR then foun...</td>\n",
       "      <td>british airways lost bags lhr found sent col...</td>\n",
       "      <td>british airways lose bag lhr find send cologne...</td>\n",
       "    </tr>\n",
       "  </tbody>\n",
       "</table>\n",
       "</div>"
      ],
      "text/plain": [
       "                                             reviews  \\\n",
       "0  |   London Heathrow to Male In new business cl...   \n",
       "1  Very good flight following an equally good fli...   \n",
       "2  An hour's delay due to late arrival of the inc...   \n",
       "3  |   I booked through BA because Loganair don’t...   \n",
       "4  |   British airways lost bags in LHR then foun...   \n",
       "\n",
       "                                       clean_reviews  \\\n",
       "0    london heathrow male new business class ba c...   \n",
       "1  good flight following equally good flight rome...   \n",
       "2  hour s delay late arrival incoming aircraft ca...   \n",
       "3    booked ba loganair don t representatives man...   \n",
       "4    british airways lost bags lhr found sent col...   \n",
       "\n",
       "                                  lemmatized_reviews  \n",
       "0  london heathrow male new business class ba con...  \n",
       "1  good flight follow equally good flight rome go...  \n",
       "2  hour s delay late arrival incoming aircraft ca...  \n",
       "3  book ba loganair don t representatives manches...  \n",
       "4  british airways lose bag lhr find send cologne...  "
      ]
     },
     "execution_count": 62,
     "metadata": {},
     "output_type": "execute_result"
    }
   ],
   "source": [
    "# Tokenization & Lemmatization\n",
    "def lemmatize_text(text):\n",
    "    doc = nlp(text)\n",
    "    tokens = [token.lemma_ for token in doc if token.is_alpha]  # Keep only words (no numbers or symbols)\n",
    "    return \" \".join(tokens)\n",
    "\n",
    "df[\"lemmatized_reviews\"] = df[\"clean_reviews\"].apply(lemmatize_text)\n",
    "df.head()"
   ]
  },
  {
   "cell_type": "markdown",
   "metadata": {},
   "source": [
    "### 2. Sentiment Analysis\n",
    "Sentiment analysis helps determine whether the review is positive, negative, or neutral."
   ]
  },
  {
   "cell_type": "code",
   "execution_count": 64,
   "metadata": {},
   "outputs": [
    {
     "data": {
      "text/html": [
       "<div>\n",
       "<style scoped>\n",
       "    .dataframe tbody tr th:only-of-type {\n",
       "        vertical-align: middle;\n",
       "    }\n",
       "\n",
       "    .dataframe tbody tr th {\n",
       "        vertical-align: top;\n",
       "    }\n",
       "\n",
       "    .dataframe thead th {\n",
       "        text-align: right;\n",
       "    }\n",
       "</style>\n",
       "<table border=\"1\" class=\"dataframe\">\n",
       "  <thead>\n",
       "    <tr style=\"text-align: right;\">\n",
       "      <th></th>\n",
       "      <th>reviews</th>\n",
       "      <th>sentiment</th>\n",
       "      <th>sentiment_label</th>\n",
       "    </tr>\n",
       "  </thead>\n",
       "  <tbody>\n",
       "    <tr>\n",
       "      <th>0</th>\n",
       "      <td>|   London Heathrow to Male In new business cl...</td>\n",
       "      <td>0.308566</td>\n",
       "      <td>positive</td>\n",
       "    </tr>\n",
       "    <tr>\n",
       "      <th>1</th>\n",
       "      <td>Very good flight following an equally good fli...</td>\n",
       "      <td>0.366667</td>\n",
       "      <td>positive</td>\n",
       "    </tr>\n",
       "    <tr>\n",
       "      <th>2</th>\n",
       "      <td>An hour's delay due to late arrival of the inc...</td>\n",
       "      <td>0.270833</td>\n",
       "      <td>positive</td>\n",
       "    </tr>\n",
       "    <tr>\n",
       "      <th>3</th>\n",
       "      <td>|   I booked through BA because Loganair don’t...</td>\n",
       "      <td>0.197222</td>\n",
       "      <td>positive</td>\n",
       "    </tr>\n",
       "    <tr>\n",
       "      <th>4</th>\n",
       "      <td>|   British airways lost bags in LHR then foun...</td>\n",
       "      <td>0.000000</td>\n",
       "      <td>neutral</td>\n",
       "    </tr>\n",
       "  </tbody>\n",
       "</table>\n",
       "</div>"
      ],
      "text/plain": [
       "                                             reviews  sentiment  \\\n",
       "0  |   London Heathrow to Male In new business cl...   0.308566   \n",
       "1  Very good flight following an equally good fli...   0.366667   \n",
       "2  An hour's delay due to late arrival of the inc...   0.270833   \n",
       "3  |   I booked through BA because Loganair don’t...   0.197222   \n",
       "4  |   British airways lost bags in LHR then foun...   0.000000   \n",
       "\n",
       "  sentiment_label  \n",
       "0        positive  \n",
       "1        positive  \n",
       "2        positive  \n",
       "3        positive  \n",
       "4         neutral  "
      ]
     },
     "execution_count": 64,
     "metadata": {},
     "output_type": "execute_result"
    }
   ],
   "source": [
    "from textblob import TextBlob\n",
    "\n",
    "# Sentiment polarity\n",
    "df['sentiment'] = df['lemmatized_reviews'].apply(lambda x: TextBlob(x).sentiment.polarity)\n",
    "\n",
    "# Create a new column for sentiment labels\n",
    "df['sentiment_label'] = df['sentiment'].apply(lambda x: 'positive' if x > 0 else ('negative' if x < 0 else 'neutral'))\n",
    "\n",
    "# View sentiment results\n",
    "df[['reviews', 'sentiment', 'sentiment_label']].head()"
   ]
  },
  {
   "cell_type": "markdown",
   "metadata": {},
   "source": [
    "#### Distribution of Sentiment: \n",
    "What percentage of reviews are positive, negative, or neutral?"
   ]
  },
  {
   "cell_type": "code",
   "execution_count": 66,
   "metadata": {},
   "outputs": [
    {
     "name": "stdout",
     "output_type": "stream",
     "text": [
      "sentiment_label\n",
      "positive    64.4\n",
      "negative    33.4\n",
      "neutral      2.2\n",
      "Name: proportion, dtype: float64\n"
     ]
    }
   ],
   "source": [
    "# Sentiment distribution\n",
    "sentiment_dist = df['sentiment_label'].value_counts(normalize=True) * 100\n",
    "print(sentiment_dist)\n"
   ]
  },
  {
   "cell_type": "markdown",
   "metadata": {},
   "source": [
    "#### Visualize Sentiment Distribution\n",
    "A quick bar chart will help to visualize the sentiment labels."
   ]
  },
  {
   "cell_type": "code",
   "execution_count": 67,
   "metadata": {},
   "outputs": [
    {
     "data": {
      "image/png": "[encoded data removed]",
      "text/plain": [
       "<Figure size 640x480 with 1 Axes>"
      ]
     },
     "metadata": {},
     "output_type": "display_data"
    }
   ],
   "source": [
    "import matplotlib.pyplot as plt\n",
    "\n",
    "# Plot sentiment distribution\n",
    "sentiment_dist.plot(kind='bar', color=['green', 'red', 'gray'])\n",
    "plt.title('Sentiment Distribution')\n",
    "plt.ylabel('Percentage')\n",
    "plt.show()"
   ]
  },
  {
   "cell_type": "markdown",
   "metadata": {},
   "source": [
    "#### Top Sentiment Scores\n",
    "We can get a quick look at the reviews that scored the highest or lowest sentiment polarity."
   ]
  },
  {
   "cell_type": "code",
   "execution_count": 69,
   "metadata": {},
   "outputs": [
    {
     "name": "stdout",
     "output_type": "stream",
     "text": [
      "Top 5 Positive Reviews:\n",
      "                                               reviews  sentiment\n",
      "908  |  Los Angeles to Amsterdam via London. Due to...   1.000000\n",
      "914  |  Gatwick to St Lucia. Great service on this ...   0.866667\n",
      "546  |  For this 5 hour 15 min flight, you are give...   0.800000\n",
      "334  |  Having experienced delays and cancellations...   0.800000\n",
      "992  |  Edinburgh to Kuala Lumpur via London. I hav...   0.788889\n",
      "\n",
      "\n",
      "Top 5 Negative Reviews:\n",
      "                                               reviews  sentiment\n",
      "626  |  BA continue to charge a premium for the mos...  -0.575000\n",
      "125  |  Absolutely terrible, lost my luggage on bot...  -0.583333\n",
      "284  |  8 months have passed and still wasting my t...  -0.600000\n",
      "640  The food was awful. An over night early mornin...  -0.642857\n",
      "143  |  Waited an hour to check-in at the Paphos bu...  -0.675000\n"
     ]
    }
   ],
   "source": [
    "# Sort by sentiment scores\n",
    "df_sorted = df.sort_values(by='sentiment', ascending=False)\n",
    "\n",
    "# Display top 5 positive and negative reviews\n",
    "print(\"Top 5 Positive Reviews:\")\n",
    "print(df_sorted.head(5)[['reviews', 'sentiment']])\n",
    "\n",
    "print(\"\\n\")\n",
    "\n",
    "print(\"Top 5 Negative Reviews:\")\n",
    "print(df_sorted.tail(5)[['reviews', 'sentiment']])"
   ]
  },
  {
   "cell_type": "markdown",
   "metadata": {},
   "source": [
    "### Conclusion of Our Study on Flight Reviews Sentiment Analysis\n",
    "\n",
    "In this analysis, we examined a dataset of flight reviews to gain insights into customer sentiment towards British Airwaysa. The sentiment of each review was categorized as positive, negative, or neutral, and we performed further analysis to understand the distribution of sentiments as well as to explore common themes in the reviews.\n",
    "\n",
    "#### Key Findings:\n",
    "\n",
    "1. Sentiment Distribution:\n",
    "- 64.4% of the reviews were positive, indicating that most customers had a favorable experience with the airline services.\n",
    "- 33.4% of the reviews were negative, highlighting a significant portion of dissatisfied customers, though less than half of the total.\n",
    "- 2.2% of the reviews were neutral, reflecting a smaller group of reviews that neither leaned strongly positive nor negative.\n",
    "\n",
    "2. Top Positive Reviews:\n",
    "\n",
    "- The top positive reviews reflected exceptional customer experiences with a focus on good service, comfort, and overall satisfaction.\n",
    "- For example, one review mentioned a smooth and efficient journey from Los Angeles to Amsterdam, achieving a perfect sentiment score of 1.0, which demonstrates an excellent experience.\n",
    "- The overall sentiment of positive reviews appeared to emphasize comfort and efficiency, as seen in the reviews from routes like Gatwick to St. Lucia and Edinburgh to Kuala Lumpur.\n",
    "\n",
    "3. Top Negative Reviews:\n",
    "\n",
    "- On the other hand, the top negative reviews highlighted common pain points such as lost luggage, poor food quality, and long waiting times.\n",
    "- For instance, a review for a flight from London Heathrow to Male reported a negative sentiment of -0.575, citing issues with premium charges and unfulfilled expectations.\n",
    "- Another critical review described an awful experience regarding food and the early morning departure, leading to a sentiment score of -0.642857. These reviews reflect dissatisfaction primarily with the airline's service and operational aspects.\n",
    "\n",
    "4. Sentiment Scores:\n",
    "\n",
    "- The positive sentiment generally dominated, but the presence of negative sentiments suggests that while many customers have a favorable view, there are still notable areas for improvement, particularly regarding service quality and punctuality.\n",
    "\n",
    "5. Common Themes Identified:\n",
    "\n",
    "- Positive Reviews: Passengers frequently appreciated good service, comfortable seating, and on-time arrivals.\n",
    "- Negative Reviews: Issues such as flight delays, luggage handling problems, poor food quality, and poor customer service were repeatedly mentioned as points of contention.\n",
    "#### Final Thoughts:\n",
    "This analysis provides a clearer picture of what passengers value most during their flights and where airlines have room for improvement. While the majority of customers report positive experiences, there are recurring negative comments that airlines can address, such as baggage handling, food quality, and customer service. Airlines could consider using these insights to refine their services and improve the overall customer experience, which could help to reduce the number of negative reviews and enhance their reputation.\n"
   ]
  }
 ],
 "metadata": {
  "kernelspec": {
   "display_name": "Python 3 (ipykernel)",
   "language": "python",
   "name": "python3"
  },
  "language_info": {
   "codemirror_mode": {
    "name": "ipython",
    "version": 3
   },
   "file_extension": ".py",
   "mimetype": "text/x-python",
   "name": "python",
   "nbconvert_exporter": "python",
   "pygments_lexer": "ipython3",
   "version": "3.9.0"
  },
  "vscode": {
   "interpreter": {
    "hash": "4f7924c4c56b083e0e50eadfe7ef592a7a8ef70df33a0047f82280e6be1afe15"
   }
  }
 },
 "nbformat": 4,
 "nbformat_minor": 4
}
